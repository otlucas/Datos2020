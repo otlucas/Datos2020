{
 "cells": [
  {
   "cell_type": "code",
   "execution_count": null,
   "metadata": {},
   "outputs": [],
   "source": [
    "import pandas as pd\n",
    "import matplotlib\n",
    "pd.set_option('display.max_colwidth', -1)"
   ]
  },
  {
   "cell_type": "code",
   "execution_count": null,
   "metadata": {},
   "outputs": [],
   "source": [
    "trainDF = pd.read_csv('data/train.csv')"
   ]
  },
  {
   "cell_type": "code",
   "execution_count": null,
   "metadata": {},
   "outputs": [],
   "source": [
    "trainDF.loc[trainDF.keyword.notnull()]"
   ]
  },
  {
   "cell_type": "code",
   "execution_count": null,
   "metadata": {},
   "outputs": [],
   "source": [
    "chancesOfKeywordBeingRealDF = trainDF.groupby(\"keyword\").agg({\"target\": [\"count\", \"sum\"]})\n",
    "chancesOfKeywordBeingRealDF[\"percentage\"] = chancesOfKeywordBeingRealDF[\"target\"][\"sum\"] / chancesOfKeywordBeingRealDF[\"target\"][\"count\"]\n",
    "chancesOfKeywordBeingRealDF.columns = ['count', 'sum', 'chances of being real']\n",
    "chancesOfKeywordBeingRealDF = chancesOfKeywordBeingRealDF.reset_index()\n",
    "chancesOfKeywordBeingRealDF"
   ]
  },
  {
   "cell_type": "code",
   "execution_count": null,
   "metadata": {},
   "outputs": [],
   "source": [
    "chancesOfKeywordBeingRealDF.plot.bar(x='keyword', y='chances of being real', rot=0) #Horrible"
   ]
  }
 ],
 "metadata": {
  "kernelspec": {
   "display_name": "Python 2",
   "language": "python",
   "name": "python2"
  },
  "language_info": {
   "codemirror_mode": {
    "name": "ipython",
    "version": 2
   },
   "file_extension": ".py",
   "mimetype": "text/x-python",
   "name": "python",
   "nbconvert_exporter": "python",
   "pygments_lexer": "ipython2",
   "version": "2.7.17"
  }
 },
 "nbformat": 4,
 "nbformat_minor": 2
}
